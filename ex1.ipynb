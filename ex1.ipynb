import numpy as np
import matplotlib.pyplot as plt
list_of_lists = [[1, 2, 3], [4, 4, 5] , [6, 2, 11]]
b = np.array(list_of_lists)
print(b)
